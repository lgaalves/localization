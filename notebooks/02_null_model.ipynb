{
 "cells": [
  {
   "cell_type": "markdown",
   "metadata": {},
   "source": [
    "# Null model: synthetic networks"
   ]
  },
  {
   "cell_type": "markdown",
   "metadata": {},
   "source": [
    "## Packages and settings"
   ]
  },
  {
   "cell_type": "code",
   "execution_count": 35,
   "metadata": {
    "ExecuteTime": {
     "end_time": "2020-11-12T22:45:14.836000Z",
     "start_time": "2020-11-12T22:45:14.774194Z"
    }
   },
   "outputs": [
    {
     "data": {
      "text/html": [
       "<style>.container { width:80% !important; }</style>"
      ],
      "text/plain": [
       "<IPython.core.display.HTML object>"
      ]
     },
     "metadata": {},
     "output_type": "display_data"
    },
    {
     "name": "stdout",
     "output_type": "stream",
     "text": [
      "The autoreload extension is already loaded. To reload it, use:\n",
      "  %reload_ext autoreload\n"
     ]
    }
   ],
   "source": [
    "#sets the notebook width\n",
    "from IPython.core.display import display, HTML\n",
    "display(HTML(\"<style>.container { width:80% !important; }</style>\"))\n",
    "%load_ext autoreload\n",
    "%autoreload 2\n",
    "\n",
    "%matplotlib inline\n",
    "import warnings\n",
    "warnings.filterwarnings('ignore')"
   ]
  },
  {
   "cell_type": "code",
   "execution_count": 1,
   "metadata": {
    "ExecuteTime": {
     "end_time": "2022-06-02T20:12:45.901177Z",
     "start_time": "2022-06-02T20:12:45.005332Z"
    }
   },
   "outputs": [],
   "source": [
    "import sys\n",
    "import math\n",
    "import numpy as np\n",
    "import pandas as pd\n",
    "from scipy import stats\n",
    "import networkx as nx\n",
    "from sklearn.preprocessing import binarize\n",
    "import seaborn as sns"
   ]
  },
  {
   "cell_type": "code",
   "execution_count": 3,
   "metadata": {
    "ExecuteTime": {
     "end_time": "2022-06-02T20:13:03.336078Z",
     "start_time": "2022-06-02T20:13:03.332500Z"
    }
   },
   "outputs": [],
   "source": [
    "sys.path.append('../src/')\n",
    "from functions import *"
   ]
  },
  {
   "cell_type": "code",
   "execution_count": 4,
   "metadata": {
    "ExecuteTime": {
     "end_time": "2022-06-02T20:13:04.040511Z",
     "start_time": "2022-06-02T20:13:04.036334Z"
    }
   },
   "outputs": [
    {
     "data": {
      "text/plain": [
       "(11.32623792125, 7)"
      ]
     },
     "execution_count": 4,
     "metadata": {},
     "output_type": "execute_result"
    }
   ],
   "source": [
    "stdrcparams(usetex=True)\n",
    "figsize=stdfigsize(ratio=-1)\n",
    "xs,ys=figsize\n",
    "figsize"
   ]
  },
  {
   "cell_type": "markdown",
   "metadata": {},
   "source": [
    "# Load data"
   ]
  },
  {
   "cell_type": "markdown",
   "metadata": {},
   "source": [
    "## Raw data"
   ]
  },
  {
   "cell_type": "code",
   "execution_count": 5,
   "metadata": {
    "ExecuteTime": {
     "end_time": "2022-06-02T20:13:16.612599Z",
     "start_time": "2022-06-02T20:13:16.601776Z"
    }
   },
   "outputs": [
    {
     "data": {
      "text/html": [
       "<div>\n",
       "<style scoped>\n",
       "    .dataframe tbody tr th:only-of-type {\n",
       "        vertical-align: middle;\n",
       "    }\n",
       "\n",
       "    .dataframe tbody tr th {\n",
       "        vertical-align: top;\n",
       "    }\n",
       "\n",
       "    .dataframe thead th {\n",
       "        text-align: right;\n",
       "    }\n",
       "</style>\n",
       "<table border=\"1\" class=\"dataframe\">\n",
       "  <thead>\n",
       "    <tr style=\"text-align: right;\">\n",
       "      <th></th>\n",
       "      <th>Country</th>\n",
       "      <th>Abbreviation</th>\n",
       "      <th>Latitude</th>\n",
       "      <th>Longitude</th>\n",
       "    </tr>\n",
       "  </thead>\n",
       "  <tbody>\n",
       "    <tr>\n",
       "      <th>0</th>\n",
       "      <td>Australia</td>\n",
       "      <td>AUS</td>\n",
       "      <td>-25.274398</td>\n",
       "      <td>133.775136</td>\n",
       "    </tr>\n",
       "    <tr>\n",
       "      <th>1</th>\n",
       "      <td>Austria</td>\n",
       "      <td>AUT</td>\n",
       "      <td>47.516231</td>\n",
       "      <td>14.550072</td>\n",
       "    </tr>\n",
       "    <tr>\n",
       "      <th>2</th>\n",
       "      <td>Belgium</td>\n",
       "      <td>BEL</td>\n",
       "      <td>50.503887</td>\n",
       "      <td>4.469936</td>\n",
       "    </tr>\n",
       "    <tr>\n",
       "      <th>3</th>\n",
       "      <td>Bulgaria</td>\n",
       "      <td>BGR</td>\n",
       "      <td>42.733883</td>\n",
       "      <td>25.485830</td>\n",
       "    </tr>\n",
       "    <tr>\n",
       "      <th>4</th>\n",
       "      <td>Brazil</td>\n",
       "      <td>BRA</td>\n",
       "      <td>-14.235004</td>\n",
       "      <td>-51.925280</td>\n",
       "    </tr>\n",
       "  </tbody>\n",
       "</table>\n",
       "</div>"
      ],
      "text/plain": [
       "     Country Abbreviation   Latitude   Longitude\n",
       "0  Australia          AUS -25.274398  133.775136\n",
       "1    Austria          AUT  47.516231   14.550072\n",
       "2    Belgium          BEL  50.503887    4.469936\n",
       "3   Bulgaria          BGR  42.733883   25.485830\n",
       "4     Brazil          BRA -14.235004  -51.925280"
      ]
     },
     "execution_count": 5,
     "metadata": {},
     "output_type": "execute_result"
    }
   ],
   "source": [
    "countries=pd.read_csv(\"../data/countries.csv\",delimiter=\",\",index_col=None)\n",
    "countries.head()"
   ]
  },
  {
   "cell_type": "code",
   "execution_count": 6,
   "metadata": {
    "ExecuteTime": {
     "end_time": "2022-06-02T20:13:17.128529Z",
     "start_time": "2022-06-02T20:13:17.122533Z"
    }
   },
   "outputs": [
    {
     "data": {
      "text/html": [
       "<div>\n",
       "<style scoped>\n",
       "    .dataframe tbody tr th:only-of-type {\n",
       "        vertical-align: middle;\n",
       "    }\n",
       "\n",
       "    .dataframe tbody tr th {\n",
       "        vertical-align: top;\n",
       "    }\n",
       "\n",
       "    .dataframe thead th {\n",
       "        text-align: right;\n",
       "    }\n",
       "</style>\n",
       "<table border=\"1\" class=\"dataframe\">\n",
       "  <thead>\n",
       "    <tr style=\"text-align: right;\">\n",
       "      <th></th>\n",
       "      <th>Code</th>\n",
       "      <th>Activity</th>\n",
       "    </tr>\n",
       "  </thead>\n",
       "  <tbody>\n",
       "    <tr>\n",
       "      <th>0</th>\n",
       "      <td>A01</td>\n",
       "      <td>Crop and animal production, hunting and relate...</td>\n",
       "    </tr>\n",
       "    <tr>\n",
       "      <th>1</th>\n",
       "      <td>A02</td>\n",
       "      <td>Forestry and logging</td>\n",
       "    </tr>\n",
       "    <tr>\n",
       "      <th>2</th>\n",
       "      <td>A03</td>\n",
       "      <td>Fishing and aquaculture</td>\n",
       "    </tr>\n",
       "    <tr>\n",
       "      <th>3</th>\n",
       "      <td>B</td>\n",
       "      <td>Mining and quarrying</td>\n",
       "    </tr>\n",
       "    <tr>\n",
       "      <th>4</th>\n",
       "      <td>C10$-$C12</td>\n",
       "      <td>Manufacture of food products, beverages and to...</td>\n",
       "    </tr>\n",
       "  </tbody>\n",
       "</table>\n",
       "</div>"
      ],
      "text/plain": [
       "        Code                                           Activity\n",
       "0        A01  Crop and animal production, hunting and relate...\n",
       "1        A02                               Forestry and logging\n",
       "2        A03                            Fishing and aquaculture\n",
       "3          B                               Mining and quarrying\n",
       "4  C10$-$C12  Manufacture of food products, beverages and to..."
      ]
     },
     "execution_count": 6,
     "metadata": {},
     "output_type": "execute_result"
    }
   ],
   "source": [
    "sectors=pd.read_csv(\"../data/sectors.csv\",delimiter=\"\\t\",index_col=None)\n",
    "sectors.head()"
   ]
  },
  {
   "cell_type": "markdown",
   "metadata": {},
   "source": [
    "# Null model"
   ]
  },
  {
   "cell_type": "markdown",
   "metadata": {},
   "source": [
    "* Prestige - centrality related to in-coming links, null model: shuffle out-going links and preserve in-strength\n",
    "* Importance - centrality related to out-going links, null model:  shuffle in-coming links and preserve out-strength"
   ]
  },
  {
   "cell_type": "markdown",
   "metadata": {},
   "source": [
    "## Null model examples"
   ]
  },
  {
   "cell_type": "code",
   "execution_count": 7,
   "metadata": {
    "ExecuteTime": {
     "end_time": "2022-06-02T20:13:28.331171Z",
     "start_time": "2022-06-02T20:13:28.328006Z"
    }
   },
   "outputs": [],
   "source": [
    "def null_model(supramatrix,nodes=43,layers=56):\n",
    "    \"\"\" \n",
    "    This model reshuffle the links and weights by blocks/layer of the supra-matrix. \n",
    "    Thus, the reshuffled matrix has the same degree, strength, and weight distributon of both layer and node.\n",
    "    \"\"\"\n",
    "    m=supramatrix.copy()\n",
    "    for i in range(0,layers):\n",
    "        for j in range(0,layers):\n",
    "            for k in range(0,nodes):\n",
    "                np.random.shuffle(m[i*nodes:(i+1)*nodes,j*nodes:(j+1)*nodes][k])\n",
    "    return m"
   ]
  },
  {
   "cell_type": "code",
   "execution_count": 8,
   "metadata": {
    "ExecuteTime": {
     "end_time": "2022-06-02T20:13:29.327180Z",
     "start_time": "2022-06-02T20:13:29.325131Z"
    }
   },
   "outputs": [],
   "source": [
    "data=np.array([[1,0,3,10],\n",
    "               [0,3,4,1],\n",
    "               [2,10,0,1],\n",
    "               [0,5,0,1],\n",
    "              ])"
   ]
  },
  {
   "cell_type": "code",
   "execution_count": 9,
   "metadata": {
    "ExecuteTime": {
     "end_time": "2022-06-02T20:13:30.319003Z",
     "start_time": "2022-06-02T20:13:30.243438Z"
    }
   },
   "outputs": [
    {
     "data": {
      "text/plain": [
       "[]"
      ]
     },
     "execution_count": 9,
     "metadata": {},
     "output_type": "execute_result"
    },
    {
     "data": {
      "image/png": "[encoded data removed]",
      "text/plain": [
       "<Figure size 504x396 with 1 Axes>"
      ]
     },
     "metadata": {},
     "output_type": "display_data"
    }
   ],
   "source": [
    "fig, ax = plt.subplots(figsize=(7,5.5))\n",
    "ax=sns.heatmap(data,\n",
    "               cmap='Blues',\n",
    "               annot=True,\n",
    "               cbar=False,\n",
    "               linecolor='black',\n",
    "               linewidth=2,\n",
    "               square=True,\n",
    "               annot_kws={\"size\": 20})\n",
    "ax.set_title('Data')\n",
    "ax.set_yticks([])\n",
    "ax.set_xticks([])"
   ]
  },
  {
   "cell_type": "code",
   "execution_count": 10,
   "metadata": {
    "ExecuteTime": {
     "end_time": "2022-06-02T20:13:31.471976Z",
     "start_time": "2022-06-02T20:13:31.412633Z"
    }
   },
   "outputs": [
    {
     "data": {
      "text/plain": [
       "[]"
      ]
     },
     "execution_count": 10,
     "metadata": {},
     "output_type": "execute_result"
    },
    {
     "data": {
      "image/png": "[encoded data removed]",
      "text/plain": [
       "<Figure size 504x396 with 1 Axes>"
      ]
     },
     "metadata": {},
     "output_type": "display_data"
    }
   ],
   "source": [
    "null=null_model(supramatrix=data,nodes=2,layers=2)\n",
    "\n",
    "fig, ax = plt.subplots(figsize=(7,5.5))\n",
    "ax=sns.heatmap(null,\n",
    "               cmap='Blues',\n",
    "               annot=True,\n",
    "               cbar=False,\n",
    "               linecolor='black',\n",
    "               linewidth=2,\n",
    "               square=True,\n",
    "               annot_kws={\"size\": 20})\n",
    "ax.set_title('Null model')\n",
    "ax.set_yticks([])\n",
    "ax.set_xticks([])"
   ]
  },
  {
   "cell_type": "code",
   "execution_count": 11,
   "metadata": {
    "ExecuteTime": {
     "end_time": "2022-06-02T20:13:49.393755Z",
     "start_time": "2022-06-02T20:13:49.132029Z"
    }
   },
   "outputs": [
    {
     "data": {
      "image/png": "[encoded data removed]",
      "text/plain": [
       "<Figure size 815.489x504 with 1 Axes>"
      ]
     },
     "metadata": {},
     "output_type": "display_data"
    }
   ],
   "source": [
    "fig, ax = plt.subplots(figsize=figsize)\n",
    "ax.plot(np.sum(data,axis=1),np.sum(null,axis=1),marker='o',\n",
    "            color='r',\n",
    "            markeredgecolor='k',\n",
    "            markersize=12,\n",
    "            linewidth=0,\n",
    "          )\n",
    "ax.set_xlabel(r'In-strength, $s^{ in}$')\n",
    "ax.set_ylabel(r'In-strength, $\\tilde{s}^{ in}_{null}$')\n",
    "# ax.set_xscale('log')\n",
    "# ax.set_yscale('log')\n",
    "ax.set_title('Null model')\n",
    "custom_frame(ax)\n",
    "plt.show()"
   ]
  },
  {
   "cell_type": "code",
   "execution_count": 12,
   "metadata": {
    "ExecuteTime": {
     "end_time": "2022-06-02T20:13:50.323828Z",
     "start_time": "2022-06-02T20:13:50.315784Z"
    }
   },
   "outputs": [
    {
     "data": {
      "text/plain": [
       "array([[0.65646151, 0.64319806, 0.29555762, 0.47008715],\n",
       "       [0.97055806, 1.58703742, 0.62100748, 0.59559419],\n",
       "       [0.25024173, 4.3402713 , 0.20558151, 0.11683273],\n",
       "       [0.83493758, 0.88310188, 3.07326902, 0.38491374]])"
      ]
     },
     "execution_count": 12,
     "metadata": {},
     "output_type": "execute_result"
    }
   ],
   "source": [
    "data=np.random.lognormal(size=16).reshape((4,4))\n",
    "data"
   ]
  },
  {
   "cell_type": "code",
   "execution_count": 13,
   "metadata": {
    "ExecuteTime": {
     "end_time": "2022-06-02T20:13:51.498027Z",
     "start_time": "2022-06-02T20:13:51.493705Z"
    }
   },
   "outputs": [
    {
     "name": "stdout",
     "output_type": "stream",
     "text": [
      "[0.58615937 0.81019577]\n",
      "0.5489326733366557\n"
     ]
    }
   ],
   "source": [
    "centrality=mnet_eigen_centrality(data.T,node_labels=[1,2],n_layers=2 ,n_nodes=2,max_iter=1000)\n",
    "bc=np.array(list(centrality.values()))\n",
    "print(bc)\n",
    "ipr_real=np.sum(bc**4)\n",
    "print(ipr_real)"
   ]
  },
  {
   "cell_type": "code",
   "execution_count": 14,
   "metadata": {
    "ExecuteTime": {
     "end_time": "2022-06-02T20:13:52.280377Z",
     "start_time": "2022-06-02T20:13:52.277274Z"
    }
   },
   "outputs": [
    {
     "name": "stdout",
     "output_type": "stream",
     "text": [
      "[0.95985109 0.28051005]\n",
      "0.8550111600331768\n"
     ]
    }
   ],
   "source": [
    "centrality=mnet_eigen_centrality(null_model(data.T,nodes=2,layers=2),node_labels=[1,2],n_layers=2 ,n_nodes=2,max_iter=1000)\n",
    "bc=np.array(list(centrality.values()))\n",
    "print(bc)\n",
    "ipr_real=np.sum(bc**4)\n",
    "print(ipr_real)"
   ]
  },
  {
   "cell_type": "markdown",
   "metadata": {},
   "source": [
    "# Ensemble"
   ]
  },
  {
   "cell_type": "code",
   "execution_count": 15,
   "metadata": {
    "ExecuteTime": {
     "end_time": "2022-06-02T20:14:14.087129Z",
     "start_time": "2022-06-02T20:14:14.073010Z"
    }
   },
   "outputs": [],
   "source": [
    "#!/usr/bin/python\n",
    "import warnings\n",
    "warnings.filterwarnings('ignore')\n",
    "\n",
    "import numpy as np\n",
    "import pandas as pd \n",
    "\n",
    "from multiprocessing import Pool\n",
    "from functools import partial\n",
    "\n",
    "countries=pd.read_csv(\"../data/countries.csv\",delimiter=\",\",index_col=None)\n",
    "\n",
    "def read_edge_df(year=2010):\n",
    "    data_path=\"../data/{}/multilayer/edges-{}.csv\".format(year,year)\n",
    "    print(data_path)\n",
    "    edge_df=pd.read_csv(data_path)\n",
    "    return edge_df\n",
    "\n",
    "\n",
    "def edges_to_supramatrix(edge_df):\n",
    "    number_of_countries=43\n",
    "    number_of_layers=56\n",
    "    m=np.zeros((number_of_layers*number_of_countries,number_of_layers*number_of_countries))\n",
    "    for alpha in range(1,number_of_layers+1,1):\n",
    "        for beta in range(1,number_of_layers+1,1):\n",
    "            edges=edge_df[(edge_df.source_layer==alpha)& (edge_df.destination_layer==beta)][[\"source_node\",\"destination_node\",'weight']]\n",
    "            edges=np.array(edges)\n",
    "            for edge in edges:\n",
    "                m[number_of_countries*(alpha-1):number_of_countries*alpha,\n",
    "                  number_of_countries*(beta-1):number_of_countries*beta][int(edge[0]-1)][int(edge[1]-1)]=edge[2]\n",
    "    return m\n",
    "\n",
    "def multiplex_supra_matrix(edge_df):\n",
    "    number_of_countries=43\n",
    "    number_of_layers=56\n",
    "    m=np.zeros((number_of_layers*number_of_countries,number_of_layers*number_of_countries))\n",
    "    for beta in range(1,number_of_layers+1,1):\n",
    "        for alpha in range(1,number_of_layers+1,1):\n",
    "            edges=edge_df[(edge_df.source_layer==alpha) & (edge_df.destination_layer==beta)][[\"source_node\",\"destination_node\",'weight']]\n",
    "            edges=np.array(edges)\n",
    "            for edge in edges:\n",
    "                m[number_of_countries*(alpha-1):number_of_countries*alpha,\n",
    "                  number_of_countries*(beta-1):number_of_countries*beta][int(edge[0]-1)][int(edge[1]-1)]=edge[2]\n",
    "    return m\n",
    "\n",
    "def convert_to_matrices(edge_df,year):\n",
    "    print('Convert edge list to multilayer matrix: {}'.format(year))\n",
    "    ml=edges_to_supramatrix(edge_df)\n",
    "    return ml\n",
    "\n",
    "def null_model(supramatrix,n_nodes=43,n_layers=56):\n",
    "    \"\"\" \n",
    "    This model reshuffle the links and weights by blocks/layer of the supra-matrix. \n",
    "    Thus, the reshuffled matrix has the same degree, strength, and weight distributon of both layer and node.\n",
    "    \"\"\"\n",
    "    m=supramatrix.copy()\n",
    "    for i in range(0,n_layers):\n",
    "        for j in range(0,n_layers):\n",
    "            for k in range(0,n_nodes):\n",
    "                np.random.shuffle(m[i*n_nodes:(i+1)*n_nodes,j*n_nodes:(j+1)*n_nodes][k])\n",
    "    return m\n",
    "\n",
    "def mnet_eigen_centrality(M,node_labels,n_layers,n_nodes,max_iter=50):\n",
    "    \"\"\"\n",
    "    Calculates the eingenvector centrality for a multilayer network. \n",
    "\n",
    "    \n",
    "    De Domenico, M. et al. Ranking in interconnected multilayer\n",
    "    networks reveals versatile nodes. Nat. Commun. 6:6868 doi: 10.1038/ncomms7868\n",
    "    (2015).\n",
    "    \n",
    "    input: \n",
    "        - M is an numpy array with the supra matrix of the multilayer network.\n",
    "        - n_layers is the number of layers\n",
    "        - n_nodes is the number of nodes in each layer\n",
    "    output: \n",
    "        - centralitymnet is the centrality of each node using the whole multilayer structure.\n",
    "    \n",
    "    \"\"\"\n",
    "    import scipy as sp\n",
    "    from scipy.sparse import linalg \n",
    "    eigenvalue, eigenvector = linalg.eigs(M.T, k=1, which='LR' ,maxiter=max_iter )\n",
    "    largest = eigenvector.flatten().real\n",
    "    norm = sp.sign(largest.sum())*sp.linalg.norm(largest)\n",
    "    centrality = largest/norm\n",
    "    centrality=largest.reshape((n_layers,n_nodes))\n",
    "    u=np.array([1 for i in range(0,n_layers)])\n",
    "    centralitymnet=u.dot(centrality)\n",
    "    norm = sp.sign(centralitymnet.sum())*sp.linalg.norm(centralitymnet)\n",
    "    centralitymnet = centralitymnet/norm\n",
    "    if node_labels==False:\n",
    "         centralitymnet=dict(zip(np.arange(0,len(centralitymnet)),centralitymnet))\n",
    "    else:\n",
    "        centralitymnet=dict(zip(node_labels,centralitymnet))\n",
    "    return centralitymnet\n",
    "\n",
    "def core_ipr_ensemble(m,n_layers,i):\n",
    "    null_m=null_model(supramatrix=m,n_nodes=43,n_layers=n_layers)\n",
    "    centrality_null=mnet_eigen_centrality(null_m,node_labels=list(countries.Country),n_layers=n_layers ,n_nodes=43,max_iter=1000000)\n",
    "    bc=np.array(list(centrality_null.values()))\n",
    "    ipr=np.sum(bc**4)\n",
    "    return ipr\n",
    "\n",
    "def calculate_samples(m,nsamples,which,simplex=True):\n",
    "    print(nsamples)\n",
    "    \n",
    "    if simplex:\n",
    "        n_layers=1\n",
    "    else:\n",
    "        n_layers=56\n",
    "\n",
    "    if which!='import':\n",
    "        m=m.T\n",
    "\n",
    "    #Calculate centrality for real network\n",
    "    centrality=mnet_eigen_centrality(m,node_labels=list(countries.Country),n_layers=n_layers ,n_nodes=43,max_iter=1000000)\n",
    "    bc=np.array(list(centrality.values()))\n",
    "    ipr_real=np.sum(bc**4)\n",
    "\n",
    "    #Calculate centrality for an ensemble of networks\n",
    "    pool=Pool(processes=3)\n",
    "    func=partial(core_ipr_ensemble,m,n_layers)\n",
    "    ipr_ensemble=pool.map(func, np.arange(nsamples))\n",
    "    pvalue=(np.sum(np.array(ipr_ensemble)>=ipr_real)/len(ipr_ensemble))*2\n",
    "    results=[ipr_real,np.mean(ipr_ensemble),np.std(ipr_ensemble),np.percentile(ipr_ensemble,2.5),np.percentile(ipr_ensemble,97.5),pvalue]\n",
    "\n",
    "    return results,ipr_ensemble"
   ]
  },
  {
   "cell_type": "code",
   "execution_count": 17,
   "metadata": {
    "ExecuteTime": {
     "end_time": "2022-06-02T20:20:09.370866Z",
     "start_time": "2022-06-02T20:14:51.468082Z"
    }
   },
   "outputs": [
    {
     "name": "stdout",
     "output_type": "stream",
     "text": [
      "Reading data \n",
      "\n",
      "Reading edge list 2000 \n",
      "\n",
      "../data/2000/multilayer/edges-2000.csv\n",
      "Convert edge list to multilayer matrix: 2000\n",
      "Reading edge list 2001 \n",
      "\n",
      "../data/2001/multilayer/edges-2001.csv\n",
      "Convert edge list to multilayer matrix: 2001\n",
      "Reading edge list 2002 \n",
      "\n",
      "../data/2002/multilayer/edges-2002.csv\n",
      "Convert edge list to multilayer matrix: 2002\n",
      "Reading edge list 2003 \n",
      "\n",
      "../data/2003/multilayer/edges-2003.csv\n",
      "Convert edge list to multilayer matrix: 2003\n",
      "Reading edge list 2004 \n",
      "\n",
      "../data/2004/multilayer/edges-2004.csv\n",
      "Convert edge list to multilayer matrix: 2004\n",
      "Reading edge list 2005 \n",
      "\n",
      "../data/2005/multilayer/edges-2005.csv\n",
      "Convert edge list to multilayer matrix: 2005\n",
      "Reading edge list 2006 \n",
      "\n",
      "../data/2006/multilayer/edges-2006.csv\n",
      "Convert edge list to multilayer matrix: 2006\n",
      "Reading edge list 2007 \n",
      "\n",
      "../data/2007/multilayer/edges-2007.csv\n",
      "Convert edge list to multilayer matrix: 2007\n",
      "Reading edge list 2008 \n",
      "\n",
      "../data/2008/multilayer/edges-2008.csv\n",
      "Convert edge list to multilayer matrix: 2008\n",
      "Reading edge list 2009 \n",
      "\n",
      "../data/2009/multilayer/edges-2009.csv\n",
      "Convert edge list to multilayer matrix: 2009\n",
      "Reading edge list 2010 \n",
      "\n",
      "../data/2010/multilayer/edges-2010.csv\n",
      "Convert edge list to multilayer matrix: 2010\n",
      "Reading edge list 2011 \n",
      "\n",
      "../data/2011/multilayer/edges-2011.csv\n",
      "Convert edge list to multilayer matrix: 2011\n",
      "Reading edge list 2012 \n",
      "\n",
      "../data/2012/multilayer/edges-2012.csv\n",
      "Convert edge list to multilayer matrix: 2012\n",
      "Reading edge list 2013 \n",
      "\n",
      "../data/2013/multilayer/edges-2013.csv\n",
      "Convert edge list to multilayer matrix: 2013\n",
      "Reading edge list 2014 \n",
      "\n",
      "../data/2014/multilayer/edges-2014.csv\n",
      "Convert edge list to multilayer matrix: 2014\n"
     ]
    }
   ],
   "source": [
    "# Set parameters\n",
    "NSAMPLES=1000\n",
    "\n",
    "# Read data\n",
    "print('Reading data \\n')\n",
    "m_list_multilayer=[]\n",
    "for year in range(2000,2015):\n",
    "    print('Reading edge list {} \\n'.format(year))\n",
    "    edge_df=read_edge_df(year=year)\n",
    "    ml=convert_to_matrices(edge_df,year)\n",
    "    m_list_multilayer.append(ml)"
   ]
  },
  {
   "cell_type": "code",
   "execution_count": 25,
   "metadata": {
    "ExecuteTime": {
     "end_time": "2022-06-02T20:39:19.290687Z",
     "start_time": "2022-06-02T20:39:19.288093Z"
    }
   },
   "outputs": [],
   "source": [
    "# Multilayer\n",
    "values=[]\n",
    "ensembles=[]\n",
    "for m in m_list_multilayer[:]:\n",
    "    results,ipr_ensemble=calculate_samples(np.array(m),1000,'sellers',simplex=False)\n",
    "    values.append(results)\n",
    "    ensembles.append(ipr_ensemble)\n",
    "\n",
    "\n",
    "dataframe=pd.DataFrame(np.transpose(ensembles),columns=[2000+i for i in range(0,15)])\n",
    "\n",
    "dataframe.to_csv('../results/null_model/ipr_sellers.csv')"
   ]
  },
  {
   "cell_type": "code",
   "execution_count": 27,
   "metadata": {
    "ExecuteTime": {
     "end_time": "2022-06-02T20:40:12.573907Z",
     "start_time": "2022-06-02T20:40:12.564830Z"
    }
   },
   "outputs": [],
   "source": [
    "# Multilayer\n",
    "values=[]\n",
    "ensembles=[]\n",
    "for m in m_list_multilayer[:]:\n",
    "    results,ipr_ensemble=calculate_samples(np.array(m),1000,'import',simplex=False)\n",
    "    values.append(results)\n",
    "    ensembles.append(ipr_ensemble)\n",
    "\n",
    "\n",
    "dataframe=pd.DataFrame(np.transpose(ensembles),columns=[2000+i for i in range(0,15)])\n",
    "\n",
    "dataframe.to_csv('../results/null_model/ipr_buyers.csv')"
   ]
  },
  {
   "cell_type": "markdown",
   "metadata": {},
   "source": [
    "# Box-plot"
   ]
  },
  {
   "cell_type": "markdown",
   "metadata": {},
   "source": [
    "Before running this section, go to the terminal and:\n",
    "- go to scripts folder;\n",
    "- run `python null_models.py`"
   ]
  },
  {
   "cell_type": "code",
   "execution_count": 20,
   "metadata": {
    "ExecuteTime": {
     "end_time": "2022-06-02T20:35:42.214225Z",
     "start_time": "2022-06-02T20:35:42.211981Z"
    }
   },
   "outputs": [],
   "source": [
    "from matplotlib.ticker import MaxNLocator"
   ]
  },
  {
   "cell_type": "code",
   "execution_count": 28,
   "metadata": {
    "ExecuteTime": {
     "end_time": "2022-06-02T20:40:14.972796Z",
     "start_time": "2022-06-02T20:40:14.943563Z"
    }
   },
   "outputs": [
    {
     "data": {
      "text/html": [
       "<div>\n",
       "<style scoped>\n",
       "    .dataframe tbody tr th:only-of-type {\n",
       "        vertical-align: middle;\n",
       "    }\n",
       "\n",
       "    .dataframe tbody tr th {\n",
       "        vertical-align: top;\n",
       "    }\n",
       "\n",
       "    .dataframe thead th {\n",
       "        text-align: right;\n",
       "    }\n",
       "</style>\n",
       "<table border=\"1\" class=\"dataframe\">\n",
       "  <thead>\n",
       "    <tr style=\"text-align: right;\">\n",
       "      <th></th>\n",
       "      <th>2000</th>\n",
       "      <th>2001</th>\n",
       "      <th>2002</th>\n",
       "      <th>2003</th>\n",
       "      <th>2004</th>\n",
       "      <th>2005</th>\n",
       "      <th>2006</th>\n",
       "      <th>2007</th>\n",
       "      <th>2008</th>\n",
       "      <th>2009</th>\n",
       "      <th>2010</th>\n",
       "      <th>2011</th>\n",
       "      <th>2012</th>\n",
       "      <th>2013</th>\n",
       "      <th>2014</th>\n",
       "    </tr>\n",
       "  </thead>\n",
       "  <tbody>\n",
       "    <tr>\n",
       "      <th>0</th>\n",
       "      <td>0.728057</td>\n",
       "      <td>0.703235</td>\n",
       "      <td>0.531315</td>\n",
       "      <td>0.960976</td>\n",
       "      <td>0.487033</td>\n",
       "      <td>0.564695</td>\n",
       "      <td>0.610545</td>\n",
       "      <td>0.641856</td>\n",
       "      <td>0.489226</td>\n",
       "      <td>0.516491</td>\n",
       "      <td>0.490365</td>\n",
       "      <td>0.457603</td>\n",
       "      <td>0.455086</td>\n",
       "      <td>0.455999</td>\n",
       "      <td>0.468551</td>\n",
       "    </tr>\n",
       "    <tr>\n",
       "      <th>1</th>\n",
       "      <td>0.030026</td>\n",
       "      <td>0.027801</td>\n",
       "      <td>0.031424</td>\n",
       "      <td>0.037253</td>\n",
       "      <td>0.035769</td>\n",
       "      <td>0.030677</td>\n",
       "      <td>0.032898</td>\n",
       "      <td>0.030479</td>\n",
       "      <td>0.029978</td>\n",
       "      <td>0.033474</td>\n",
       "      <td>0.033548</td>\n",
       "      <td>0.037969</td>\n",
       "      <td>0.038303</td>\n",
       "      <td>0.042457</td>\n",
       "      <td>0.042959</td>\n",
       "    </tr>\n",
       "    <tr>\n",
       "      <th>2</th>\n",
       "      <td>0.521568</td>\n",
       "      <td>0.450359</td>\n",
       "      <td>0.371779</td>\n",
       "      <td>0.465743</td>\n",
       "      <td>0.465598</td>\n",
       "      <td>0.551784</td>\n",
       "      <td>0.544026</td>\n",
       "      <td>0.603402</td>\n",
       "      <td>0.660006</td>\n",
       "      <td>0.667817</td>\n",
       "      <td>0.657500</td>\n",
       "      <td>0.701892</td>\n",
       "      <td>0.738036</td>\n",
       "      <td>0.752362</td>\n",
       "      <td>0.747425</td>\n",
       "    </tr>\n",
       "    <tr>\n",
       "      <th>3</th>\n",
       "      <td>0.892665</td>\n",
       "      <td>0.902244</td>\n",
       "      <td>0.892013</td>\n",
       "      <td>0.871504</td>\n",
       "      <td>0.889928</td>\n",
       "      <td>0.881935</td>\n",
       "      <td>0.875519</td>\n",
       "      <td>0.859110</td>\n",
       "      <td>0.441883</td>\n",
       "      <td>0.455997</td>\n",
       "      <td>0.501271</td>\n",
       "      <td>0.552849</td>\n",
       "      <td>0.572707</td>\n",
       "      <td>0.609845</td>\n",
       "      <td>0.596281</td>\n",
       "    </tr>\n",
       "    <tr>\n",
       "      <th>4</th>\n",
       "      <td>0.054895</td>\n",
       "      <td>0.051424</td>\n",
       "      <td>0.050644</td>\n",
       "      <td>0.052707</td>\n",
       "      <td>0.051667</td>\n",
       "      <td>0.050652</td>\n",
       "      <td>0.056158</td>\n",
       "      <td>0.053328</td>\n",
       "      <td>0.043220</td>\n",
       "      <td>0.046076</td>\n",
       "      <td>0.037363</td>\n",
       "      <td>0.033766</td>\n",
       "      <td>0.033088</td>\n",
       "      <td>0.033058</td>\n",
       "      <td>0.033147</td>\n",
       "    </tr>\n",
       "  </tbody>\n",
       "</table>\n",
       "</div>"
      ],
      "text/plain": [
       "       2000      2001      2002      2003      2004      2005      2006  \\\n",
       "0  0.728057  0.703235  0.531315  0.960976  0.487033  0.564695  0.610545   \n",
       "1  0.030026  0.027801  0.031424  0.037253  0.035769  0.030677  0.032898   \n",
       "2  0.521568  0.450359  0.371779  0.465743  0.465598  0.551784  0.544026   \n",
       "3  0.892665  0.902244  0.892013  0.871504  0.889928  0.881935  0.875519   \n",
       "4  0.054895  0.051424  0.050644  0.052707  0.051667  0.050652  0.056158   \n",
       "\n",
       "       2007      2008      2009      2010      2011      2012      2013  \\\n",
       "0  0.641856  0.489226  0.516491  0.490365  0.457603  0.455086  0.455999   \n",
       "1  0.030479  0.029978  0.033474  0.033548  0.037969  0.038303  0.042457   \n",
       "2  0.603402  0.660006  0.667817  0.657500  0.701892  0.738036  0.752362   \n",
       "3  0.859110  0.441883  0.455997  0.501271  0.552849  0.572707  0.609845   \n",
       "4  0.053328  0.043220  0.046076  0.037363  0.033766  0.033088  0.033058   \n",
       "\n",
       "       2014  \n",
       "0  0.468551  \n",
       "1  0.042959  \n",
       "2  0.747425  \n",
       "3  0.596281  \n",
       "4  0.033147  "
      ]
     },
     "execution_count": 28,
     "metadata": {},
     "output_type": "execute_result"
    }
   ],
   "source": [
    "df_buyers=pd.read_csv('../results/null_model/ipr_buyers.csv',index_col=0)\n",
    "df_buyers.head()"
   ]
  },
  {
   "cell_type": "code",
   "execution_count": 29,
   "metadata": {
    "ExecuteTime": {
     "end_time": "2022-06-02T20:40:17.390429Z",
     "start_time": "2022-06-02T20:40:16.324957Z"
    },
    "scrolled": false
   },
   "outputs": [
    {
     "data": {
      "image/png": "[encoded data removed]",
      "text/plain": [
       "<Figure size 1310.4x1008 with 4 Axes>"
      ]
     },
     "metadata": {},
     "output_type": "display_data"
    }
   ],
   "source": [
    "f, axs = plt.subplots(nrows=2, ncols=2, figsize=stdfigsize(nx=2, ny=2, scale=1))\n",
    "\n",
    "ax=axs.flatten()[0]\n",
    "\n",
    "\n",
    "df=pd.read_csv('../results/null_model/multilayer_buyers.csv',index_col=0)\n",
    "ipr,m,s,lp,up,p=np.transpose(df.values)\n",
    "x=np.array([int(year) for year in range(2000,2015)])\n",
    "y=ipr/m\n",
    "\n",
    "\n",
    "ax.plot(x,y[y>up/m],\n",
    "        marker='o',\n",
    "        color='#e41a1c',\n",
    "        markeredgecolor='k',\n",
    "        markeredgewidth=2,\n",
    "        markersize=12,\n",
    "        linewidth=0)\n",
    "\n",
    "ax.axhline(y=1,linestyle='dashed',color='k')\n",
    "\n",
    "ax.set_title('Buyers')\n",
    "ax.set_xlabel(r'Year, $t$')\n",
    "ax.set_ylabel(r'IPR/$\\langle$ IPR $\\rangle_{random}$')\n",
    "ax.annotate('A', xy=(-0.2, 1.1), xycoords=\"axes fraction\",fontsize=40,fontweight=\"bold\")\n",
    "custom_frame(ax)\n",
    "ax.xaxis.set_major_locator(MaxNLocator(integer=True))\n",
    "\n",
    "ax=axs.flatten()[1]\n",
    "\n",
    "\n",
    "df=pd.read_csv('../results/null_model/multilayer_sellers.csv',index_col=0)\n",
    "ipr,m,s,lp,up,p=np.transpose(df.values)\n",
    "x=np.array([year for year in range(2000,2015)])\n",
    "y=ipr/m\n",
    "\n",
    "\n",
    "ax.plot(x,y[y>up/m],\n",
    "        marker='o',\n",
    "        color='#e41a1c',\n",
    "        markeredgecolor='k',\n",
    "        markeredgewidth=2,\n",
    "        markersize=12,\n",
    "        linewidth=0)\n",
    "\n",
    "\n",
    "ax.axhline(y=1,linestyle='dashed',color='k')\n",
    "ax.set_title('Sellers')\n",
    "ax.set_xlabel(r'Year, $t$')\n",
    "#ax.set_ylabel(r'IPR/$\\langle \\text{IPR} \\rangle_{\\text{random}}$')\n",
    "ax.annotate('B', xy=(-0.2, 1.1), xycoords=\"axes fraction\",fontsize=40,fontweight=\"bold\")\n",
    "custom_frame(ax)\n",
    "ax.xaxis.set_major_locator(MaxNLocator(integer=True))\n",
    "\n",
    "ax=axs.flatten()[2]\n",
    "\n",
    "\n",
    "\n",
    "boxprops = dict(linewidth=1,color='#67a9cf',alpha=0.3)\n",
    "flierprops = dict(marker='.', markerfacecolor='k', markersize=8, linestyle='none')\n",
    "whiskerprops = dict(linewidth=1.5, color='k')\n",
    "medianprops=dict(linewidth=1.5, color='r')\n",
    "capprops=dict(linewidth=1.5, color='k')\n",
    "\n",
    "df_buyers=pd.read_csv('../results/null_model/ipr_buyers.csv',index_col=0)\n",
    "sns.boxplot(data=df_buyers,ax=ax,linewidth=2,fliersize=3,whis=[2.5, 97.5],\n",
    "            capprops=capprops,\n",
    "            flierprops=flierprops, \n",
    "            boxprops=boxprops, \n",
    "            whiskerprops=whiskerprops,\n",
    "            medianprops=medianprops)\n",
    "\n",
    "df=pd.read_csv('../results/null_model/multilayer_buyers.csv',index_col=0)\n",
    "ipr,m,s,lp,up,p=np.transpose(df.values)\n",
    "x=np.array([year for year in range(0,15)])\n",
    "y=ipr\n",
    "\n",
    "ax.plot(x,y,\n",
    "        marker='o',\n",
    "        color='#e41a1c',\n",
    "        markeredgecolor='k',\n",
    "        markeredgewidth=2,\n",
    "        markersize=12,\n",
    "        linewidth=0)\n",
    "\n",
    "\n",
    "ax.set_title('Buyers')\n",
    "ax.set_ylabel(r\"IPR\")\n",
    "ax.set_xlabel(r\"Year, $t$\")\n",
    "# ax.set_ylim(0.994,1.002)\n",
    "custom_frame(ax)\n",
    "ax.tick_params(axis='x', rotation=45)\n",
    "ax.annotate('C', xy=(-0.2, 1.1), xycoords=\"axes fraction\",fontsize=40,fontweight=\"bold\")\n",
    "\n",
    "\n",
    "ax=axs.flatten()[3]\n",
    "\n",
    "boxprops = dict(linewidth=1,color='#67a9cf',alpha=0.3)\n",
    "flierprops = dict(marker='.', markerfacecolor='k', markersize=8, linestyle='none')\n",
    "whiskerprops = dict(linewidth=1.5, color='k')\n",
    "medianprops=dict(linewidth=1.5, color='r')\n",
    "capprops=dict(linewidth=1.5, color='k')\n",
    "\n",
    "df_sellers=pd.read_csv('../results/null_model/ipr_sellers.csv',index_col=0)\n",
    "\n",
    "sns.boxplot(data=df_sellers,ax=ax,linewidth=2,fliersize=3,whis=[2.5, 97.5],\n",
    "            capprops=capprops,\n",
    "            flierprops=flierprops, \n",
    "            boxprops=boxprops, \n",
    "            whiskerprops=whiskerprops,\n",
    "            medianprops=medianprops)\n",
    "\n",
    "\n",
    "df=pd.read_csv('../results/null_model/multilayer_sellers.csv',index_col=0)\n",
    "ipr,m,s,lp,up,p=np.transpose(df.values)\n",
    "x=np.array([year for year in range(0,15)])\n",
    "y=ipr\n",
    "\n",
    "ax.plot(x,y,\n",
    "        marker='o',\n",
    "        color='#e41a1c',\n",
    "        markeredgecolor='k',\n",
    "        markeredgewidth=2,\n",
    "        markersize=12,\n",
    "        linewidth=0)\n",
    "\n",
    "\n",
    "ax.set_title('Sellers')\n",
    "ax.set_ylabel(r\"IPR\")\n",
    "ax.set_xlabel(r\"Year, $t$\")\n",
    "# ax.set_ylim(0.994,1.002)\n",
    "custom_frame(ax)\n",
    "ax.tick_params(axis='x', rotation=45)\n",
    "ax.annotate('D', xy=(-0.2, 1.1), xycoords=\"axes fraction\",fontsize=40,fontweight=\"bold\")\n",
    "f.tight_layout()\n",
    "plt.savefig('../figures/comparison_null.pdf',bbox_inches='tight',dpi=200)"
   ]
  },
  {
   "cell_type": "code",
   "execution_count": 30,
   "metadata": {
    "ExecuteTime": {
     "end_time": "2022-06-02T20:46:55.402279Z",
     "start_time": "2022-06-02T20:46:55.352833Z"
    }
   },
   "outputs": [
    {
     "name": "stdout",
     "output_type": "stream",
     "text": [
      "Last updated: Thu Jun 02 2022\n",
      "\n",
      "Python implementation: CPython\n",
      "Python version       : 3.8.12\n",
      "IPython version      : 7.18.1\n",
      "\n",
      "pandas    : 1.3.4\n",
      "matplotlib: 3.4.3\n",
      "scipy     : 1.7.3\n",
      "networkx  : 2.4\n",
      "seaborn   : 0.11.2\n",
      "numpy     : 1.21.4\n",
      "sys       : 3.8.12 | packaged by conda-forge | (default, Oct 12 2021, 21:50:38) \n",
      "[Clang 11.1.0 ]\n",
      "watermark : 2.3.0\n",
      "\n",
      "Watermark: 2.3.0\n",
      "\n"
     ]
    }
   ],
   "source": [
    "import watermark\n",
    "%load_ext watermark\n",
    "%watermark -n -u -v -iv -w"
   ]
  },
  {
   "cell_type": "code",
   "execution_count": null,
   "metadata": {},
   "outputs": [],
   "source": []
  }
 ],
 "metadata": {
  "kernelspec": {
   "display_name": "Python 3",
   "language": "python",
   "name": "python3"
  },
  "language_info": {
   "codemirror_mode": {
    "name": "ipython",
    "version": 3
   },
   "file_extension": ".py",
   "mimetype": "text/x-python",
   "name": "python",
   "nbconvert_exporter": "python",
   "pygments_lexer": "ipython3",
   "version": "3.8.12"
  },
  "latex_envs": {
   "LaTeX_envs_menu_present": true,
   "autoclose": false,
   "autocomplete": true,
   "bibliofile": "biblio.bib",
   "cite_by": "apalike",
   "current_citInitial": 1,
   "eqLabelWithNumbers": true,
   "eqNumInitial": 1,
   "hotkeys": {
    "equation": "Ctrl-E",
    "itemize": "Ctrl-I"
   },
   "labels_anchors": false,
   "latex_user_defs": false,
   "report_style_numbering": false,
   "user_envs_cfg": false
  },
  "toc": {
   "base_numbering": 1,
   "nav_menu": {},
   "number_sections": true,
   "sideBar": true,
   "skip_h1_title": false,
   "title_cell": "Table of Contents",
   "title_sidebar": "Contents",
   "toc_cell": false,
   "toc_position": {
    "height": "calc(100% - 180px)",
    "left": "10px",
    "top": "150px",
    "width": "165px"
   },
   "toc_section_display": true,
   "toc_window_display": true
  }
 },
 "nbformat": 4,
 "nbformat_minor": 2
}
